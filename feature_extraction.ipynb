{
 "cells": [
  {
   "cell_type": "code",
   "execution_count": 1,
   "id": "879891ea-4c72-4c19-999d-6fb832503b1c",
   "metadata": {
    "tags": []
   },
   "outputs": [],
   "source": [
    "import pandas as pd\n",
    "import numpy as np\n",
    "import librosa\n",
    "import librosa.display\n",
    "import pylab\n",
    "import os\n",
    "import pandas as pd\n",
    "import numpy as np\n",
    "import itertools\n",
    "import matplotlib.pyplot as plt\n",
    "import os"
   ]
  },
  {
   "cell_type": "code",
   "execution_count": null,
   "id": "ccb9a85f-8353-4719-b3a3-16c569eafc77",
   "metadata": {},
   "outputs": [],
   "source": []
  },
  {
   "cell_type": "code",
   "execution_count": 2,
   "id": "b7504160-eda0-450c-838c-0fd9f92532ac",
   "metadata": {},
   "outputs": [],
   "source": [
    "\n",
    "def extract_features(y,sr):\n",
    "  try:\n",
    "    mfcc = np.mean(librosa.feature.mfcc(y = y, sr = sr, n_mfcc=40).T, axis = 0)  \n",
    "    mel = np.mean(librosa.feature.melspectrogram(y = y, sr = sr).T, axis = 0)\n",
    "    chroma = np.mean(librosa.feature.chroma_stft(y = y, sr = sr).T, axis = 0)\n",
    "    contrast = np.mean(librosa.feature.spectral_contrast(y = y, sr = sr).T, axis = 0)\n",
    "    tonnetz =  np.mean(librosa.feature.tonnetz(y = librosa.effects.harmonic(y), sr = sr).T, axis = 0)\n",
    "    return mfcc,chroma,mel,contrast,tonnetz # shape: (40,), (12,), (128,), (7,), (6,)\n",
    "  except:\n",
    "    return None,None,None,None,None"
   ]
  },
  {
   "cell_type": "code",
   "execution_count": null,
   "id": "eba982f2",
   "metadata": {},
   "outputs": [],
   "source": []
  },
  {
   "cell_type": "code",
   "execution_count": 5,
   "id": "f28d8f77-db13-4b9f-bcfb-48dd0266a984",
   "metadata": {
    "tags": []
   },
   "outputs": [],
   "source": [
    "def generate_audio_df(path,columns,label):\n",
    "  audio_df = pd.DataFrame(columns = columns)\n",
    "\n",
    "  for flac in os.listdir(path):\n",
    "    try:\n",
    "      audio,sr = librosa.load(flac)\n",
    "      mfcc,chroma,mel,contrast,tonnetz = extract_features(audio,sr)\n",
    "\n",
    "      features = np.hstack([mfcc,chroma,mel,contrast,tonnetz,label])\n",
    "      fill = np.empty((0,194))\n",
    "      features = np.vstack([fill,features])\n",
    "      row_df = pd.DataFrame(features, columns = columns)\n",
    "      audio_df = audio_df.append(row_df, ignore_index = True)\n",
    "    except:\n",
    "      continue\n",
    "   \n",
    "  return audio_df"
   ]
  },
  {
   "cell_type": "code",
   "execution_count": 3,
   "id": "cf3fc257-9422-48b0-b80b-996deedaef7c",
   "metadata": {
    "tags": []
   },
   "outputs": [],
   "source": [
    "columns = ['mfcc']*40 + ['chroma']*12 + ['mel']*128 + ['contrast']*7 + ['tonnetz']*6 + ['label']\n"
   ]
  },
  {
   "cell_type": "code",
   "execution_count": 4,
   "id": "e01c314c-0d04-4f95-8b29-f6d5331fe943",
   "metadata": {},
   "outputs": [],
   "source": [
    "path = '/home/anubhav100rao/Desktop/coding/ml/data/ASVspoof2021_DF_eval_part00/ASVspoof2021_DF_eval/flac'"
   ]
  },
  {
   "cell_type": "code",
   "execution_count": null,
   "id": "8f823657-2504-4b19-bed5-087b19a0478b",
   "metadata": {},
   "outputs": [],
   "source": [
    "cnt = 0\n",
    "for flac in os.listdir(path):\n",
    "    if flac[-4:] == 'flac':\n",
    "        print(flac)\n",
    "        cnt += 1\n",
    "    if cnt > 100:\n",
    "        break\n",
    "print(cnt)"
   ]
  },
  {
   "cell_type": "code",
   "execution_count": null,
   "id": "976623c5-ab3f-477c-b9f0-772b41995650",
   "metadata": {
    "tags": []
   },
   "outputs": [],
   "source": [
    "# path = '/home/anubhav100rao/Desktop/coding/ml/ASVspoof2021_DF_eval_part00/ASVspoof2021_DF_eval'\n",
    "# df = pd.DataFrame(columns = columns)\n",
    "# audio_df = generate_audio_df(path, columns, 0)\n",
    "# df = df.append(audio_df, ignore_index = True)\n",
    "# df.to_csv('./ml/extracted/' + 'deaf_fake_features.csv', index = False)\n",
    "\n",
    "audio_df = pd.DataFrame(columns = columns)\n",
    "lable = 0\n",
    "path = '/home/anubhav100rao/Desktop/coding/ml/ASVspoof2021_DF_eval_part00/ASVspoof2021_DF_eval/'\n",
    "cnt = 0\n",
    "for flac in os.listdir(path):\n",
    "    if flac[-4:] != 'flac':\n",
    "        continue\n",
    "    cnt += 1\n",
    "    if cnt > 1000:\n",
    "        break\n",
    "    p = path + \"/\" + flac\n",
    "    \n",
    "    audio,sr = librosa.load(p)\n",
    "    label = 0\n",
    "    mfcc,chroma,mel,contrast,tonnetz = extract_features(audio,sr)\n",
    "\n",
    "    features = np.hstack([mfcc,chroma,mel,contrast,tonnetz,label])\n",
    "    fill = np.empty((0,194))\n",
    "    features = np.vstack([fill,features])\n",
    "    row_df = pd.DataFrame(features, columns = columns)\n",
    "    audio_df = audio_df.append(row_df, ignore_index = True)\n",
    "    \n",
    "audio_df.head(5)\n",
    "print(audio_df)\n",
    "audio_df.to_csv('/home/anubhav100rao/Desktop/coding/ml/extracted/deep_fake_feature_extraction.csv', index=False)"
   ]
  },
  {
   "cell_type": "code",
   "execution_count": null,
   "id": "21c3a59d-a66e-4ea9-a663-7b51f7ee8ec0",
   "metadata": {},
   "outputs": [],
   "source": [
    "audio_df = pd.DataFrame(columns = columns)\n",
    "lable = 0\n",
    "path = '/home/anubhav100rao/Desktop/coding/ml/ASVspoof2021_DF_eval_part00/ASVspoof2021_DF_eval/'\n",
    "cnt = 0\n",
    "for flac in os.listdir(path):\n",
    "    if flac[-4:] != 'flac':\n",
    "        continue\n",
    "    cnt += 1\n",
    "    if cnt > 100:\n",
    "        break\n",
    "    p = path + \"/\" + flac\n",
    "    print(p)\n",
    "    \n",
    "    \n",
    "    \n"
   ]
  },
  {
   "cell_type": "code",
   "execution_count": 6,
   "id": "5f0faa97-6d29-4bb0-bdb0-06dbc1a0acf7",
   "metadata": {},
   "outputs": [],
   "source": []
  },
  {
   "cell_type": "code",
   "execution_count": null,
   "id": "ba028f8f",
   "metadata": {},
   "outputs": [],
   "source": [
    "with open(meta_path) as file:\n",
    "    for idx, line in enumerate(file):\n",
    "        l = line.split(\" \")\n",
    "        print(l[1], l[5])\n",
    "        if idx > 100:\n",
    "            break\n"
   ]
  },
  {
   "cell_type": "code",
   "execution_count": 10,
   "id": "9714767b-d8e1-457f-babe-9df11d2cd78b",
   "metadata": {
    "tags": []
   },
   "outputs": [
    {
     "name": "stdout",
     "output_type": "stream",
     "text": [
      "['LA_0019', 'DF_E_2749949', 'high_mp3', 'asvspoof', '-', 'bonafide', 'notrim', 'progress', 'bonafide', '-', '-', '-', '-']\n",
      "0\n",
      "Empty DataFrame\n",
      "Columns: [mfcc, mfcc, mfcc, mfcc, mfcc, mfcc, mfcc, mfcc, mfcc, mfcc, mfcc, mfcc, mfcc, mfcc, mfcc, mfcc, mfcc, mfcc, mfcc, mfcc, mfcc, mfcc, mfcc, mfcc, mfcc, mfcc, mfcc, mfcc, mfcc, mfcc, mfcc, mfcc, mfcc, mfcc, mfcc, mfcc, mfcc, mfcc, mfcc, mfcc, chroma, chroma, chroma, chroma, chroma, chroma, chroma, chroma, chroma, chroma, chroma, chroma, mel, mel, mel, mel, mel, mel, mel, mel, mel, mel, mel, mel, mel, mel, mel, mel, mel, mel, mel, mel, mel, mel, mel, mel, mel, mel, mel, mel, mel, mel, mel, mel, mel, mel, mel, mel, mel, mel, mel, mel, mel, mel, mel, mel, mel, mel, mel, mel, ...]\n",
      "Index: []\n",
      "\n",
      "[0 rows x 194 columns]\n"
     ]
    }
   ],
   "source": [
    "# path = '/home/anubhav100rao/Desktop/coding/ml/ASVspoof2021_DF_eval_part00/ASVspoof2021_DF_eval'\n",
    "# df = pd.DataFrame(columns = columns)\n",
    "# audio_df = generate_audio_df(path, columns, 0)\n",
    "# df = df.append(audio_df, ignore_index = True)\n",
    "# df.to_csv('./ml/extracted/' + 'deaf_fake_features.csv', index = False)\n",
    "\n",
    "meta_path = '/home/anubhav100rao/Downloads/DF-keys-full (2)/keys/DF/CM/trial_metadata.txt'\n",
    "audio_df = pd.DataFrame(columns = columns)\n",
    "\n",
    "path = '/home/anubhav100rao/Desktop/coding/ml/data/ASVspoof2021_DF_eval_part01/ASVspoof2021_DF_eval/flac'\n",
    "cnt = 0;\n",
    "with open(meta_path) as file:\n",
    "    for idx, line in enumerate(file):\n",
    "        \n",
    "        data = line.split()\n",
    "        \n",
    "        flac = data[1] + \".flac\"\n",
    "        p = path + \"/\" + flac\n",
    "        if not os.path.isfile(p):\n",
    "            continue\n",
    "        \n",
    "        if data[5] == 'bonafide':\n",
    "            print(data)\n",
    "            break\n",
    "        continue\n",
    "        \n",
    "        \n",
    "        \n",
    "        \n",
    "        cnt += 1\n",
    "      \n",
    "        \n",
    "        continue\n",
    "        \n",
    "        \n",
    "\n",
    "        audio,sr = librosa.load(p)\n",
    "        label = 1 if data[5] == \"bonafide\" else 0\n",
    "        mfcc,chroma,mel,contrast,tonnetz = extract_features(audio,sr)\n",
    "\n",
    "        features = np.hstack([mfcc,chroma,mel,contrast,tonnetz,label])\n",
    "        fill = np.empty((0,194))\n",
    "        features = np.vstack([fill,features])\n",
    "        row_df = pd.DataFrame(features, columns = columns)\n",
    "        audio_df = audio_df.append(row_df, ignore_index = True)\n",
    "        \n",
    "        \n",
    "        \n",
    "print(cnt)           \n",
    "audio_df.head(5)\n",
    "print(audio_df)\n",
    "audio_df.to_csv('/home/anubhav100rao/Desktop/coding/ml/extracted/deep_fake_feature_extraction.csv', index=False)"
   ]
  },
  {
   "cell_type": "code",
   "execution_count": null,
   "id": "1d0e6a11-13eb-42f9-abd7-119f92338019",
   "metadata": {},
   "outputs": [],
   "source": []
  }
 ],
 "metadata": {
  "kernelspec": {
   "display_name": "Python 3 (ipykernel)",
   "language": "python",
   "name": "python3"
  },
  "language_info": {
   "codemirror_mode": {
    "name": "ipython",
    "version": 3
   },
   "file_extension": ".py",
   "mimetype": "text/x-python",
   "name": "python",
   "nbconvert_exporter": "python",
   "pygments_lexer": "ipython3",
   "version": "3.10.6"
  }
 },
 "nbformat": 4,
 "nbformat_minor": 5
}
