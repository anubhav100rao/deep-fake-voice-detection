{
 "cells": [
  {
   "cell_type": "markdown",
   "metadata": {
    "id": "xOkzsKfB8Etl"
   },
   "source": []
  },
  {
   "cell_type": "markdown",
   "metadata": {
    "id": "TF2Ce13K8F3c"
   },
   "source": [
    "# LIBRARIES"
   ]
  },
  {
   "cell_type": "code",
   "execution_count": null,
   "metadata": {
    "id": "ixBPjL8iv6Uq"
   },
   "outputs": [],
   "source": [
    "import pandas as pd\n",
    "import numpy as np\n",
    "from sklearn.metrics import roc_curve, confusion_matrix\n",
    "import matplotlib.pyplot as plt\n",
    "import itertools\n",
    "from tqdm import tqdm\n",
    "import librosa\n",
    "import librosa.display\n",
    "import pylab\n",
    "import cv2\n"
   ]
  },
  {
   "cell_type": "code",
   "execution_count": null,
   "metadata": {
    "colab": {
     "base_uri": "https://localhost:8080/"
    },
    "id": "vFouzVrWtjxO",
    "outputId": "ce0f9bcb-b178-4dd9-e3e6-3a06ab42347c"
   },
   "outputs": [
    {
     "data": {
      "text/plain": [
       "<bound method IndexOpsMixin.value_counts of 0        0.0\n",
       "1        0.0\n",
       "2        0.0\n",
       "3        0.0\n",
       "4        0.0\n",
       "        ... \n",
       "24779    1.0\n",
       "24780    1.0\n",
       "24781    1.0\n",
       "24782    1.0\n",
       "24783    1.0\n",
       "Name: label, Length: 24784, dtype: float64>"
      ]
     },
     "execution_count": 2,
     "metadata": {},
     "output_type": "execute_result"
    }
   ],
   "source": [
    "data_path =  '/content/drive/MyDrive/deep_fake_feature_extraction.csv'\n",
    "data2_path = '/content/drive/MyDrive/deep_fake_feature_extraction2.csv'\n",
    "data3_path = '/content/drive/MyDrive/deep_fake_feature_extraction3.csv'\n",
    "from sklearn.impute import SimpleImputer\n",
    "\n",
    "\n",
    "\n",
    "data = pd.read_csv(data_path)\n",
    "data2 = pd.read_csv(data2_path)\n",
    "data3 = pd.read_csv(data3_path)\n",
    "data = pd.concat([data, data2, data3], axis = 0)\n",
    "features_columns = list(data.columns)\n",
    "# Imputation\n",
    "my_imputer = SimpleImputer()\n",
    "data = pd.DataFrame(my_imputer.fit_transform(data))\n",
    "data.columns = features_columns\n",
    "features = data.drop('label', axis = 1)\n",
    "label = data['label']\n",
    "data.label.value_counts"
   ]
  },
  {
   "cell_type": "markdown",
   "metadata": {
    "id": "yEOwhwFrw5yV"
   },
   "source": [
    "# TEST SPLIT"
   ]
  },
  {
   "cell_type": "code",
   "execution_count": null,
   "metadata": {
    "colab": {
     "base_uri": "https://localhost:8080/"
    },
    "id": "_KQXZO31w4gC",
    "outputId": "4e15129b-2db9-48ef-9a02-c735ca200beb"
   },
   "outputs": [
    {
     "data": {
      "text/plain": [
       "0.0    13524\n",
       "1.0     3824\n",
       "Name: label, dtype: int64"
      ]
     },
     "execution_count": 4,
     "metadata": {},
     "output_type": "execute_result"
    }
   ],
   "source": [
    "from sklearn.model_selection import train_test_split\n",
    "x_train,x_valid,y_train,y_valid = train_test_split(features,label,test_size=0.3,random_state=0)\n",
    "y_train.value_counts()"
   ]
  },
  {
   "cell_type": "markdown",
   "metadata": {
    "id": "9gUHtHUFI0Hl"
   },
   "source": [
    "# OVER SAMPLING"
   ]
  },
  {
   "cell_type": "code",
   "execution_count": null,
   "metadata": {
    "colab": {
     "base_uri": "https://localhost:8080/"
    },
    "id": "apeoKAsOI7Fq",
    "outputId": "7b0aed8d-f83e-49fa-8d49-41df5abaa5c1"
   },
   "outputs": [
    {
     "data": {
      "text/plain": [
       "0.0    13524\n",
       "1.0    13524\n",
       "Name: label, dtype: int64"
      ]
     },
     "execution_count": 5,
     "metadata": {},
     "output_type": "execute_result"
    }
   ],
   "source": [
    "\n",
    "from sklearn.utils import resample\n",
    "train_data = pd.concat([x_train, y_train], axis=1)\n",
    "# separate minority and majority classes\n",
    "negative = train_data[train_data.label==1.0]\n",
    "positive = train_data[train_data.label==0.0]\n",
    "# downsample majority\n",
    "neg_downsampled = resample(negative,\n",
    " replace=True, # sample with replacement\n",
    " n_samples=len(positive), # match number in minority class\n",
    " random_state=27) # reproducible results\n",
    "# combine minority and downsampled majority\n",
    "downsampled = pd.concat([positive, neg_downsampled])\n",
    "# check new class counts\n",
    "\n",
    "x_train = downsampled.drop('label', axis = 1)\n",
    "y_train = downsampled['label']\n",
    "downsampled.label.value_counts()"
   ]
  },
  {
   "cell_type": "markdown",
   "metadata": {
    "id": "u3zV_lLJwy_6"
   },
   "source": [
    "# FEATURE SCALING"
   ]
  },
  {
   "cell_type": "code",
   "execution_count": null,
   "metadata": {
    "colab": {
     "base_uri": "https://localhost:8080/"
    },
    "id": "12mtIwfr1swV",
    "outputId": "4f8f9d4c-31f1-4c6f-9b1b-15920a010c62"
   },
   "outputs": [
    {
     "name": "stdout",
     "output_type": "stream",
     "text": [
      "Index(['mfcc', 'mfcc.1', 'mfcc.2', 'mfcc.3', 'mfcc.4', 'mfcc.5', 'mfcc.6',\n",
      "       'mfcc.7', 'mfcc.8', 'mfcc.9',\n",
      "       ...\n",
      "       'contrast.3', 'contrast.4', 'contrast.5', 'contrast.6', 'tonnetz',\n",
      "       'tonnetz.1', 'tonnetz.2', 'tonnetz.3', 'tonnetz.4', 'tonnetz.5'],\n",
      "      dtype='object', length=193)\n"
     ]
    }
   ],
   "source": [
    "from sklearn.preprocessing import StandardScaler\n",
    "scaler = StandardScaler()\n",
    "scaler.fit(x_train) # where X is your data to be scaled\n",
    "x_train = pd.DataFrame(scaler.transform(x_train))\n",
    "x_valid = pd.DataFrame(scaler.transform(x_valid))\n",
    "x_train.columns = features.columns\n",
    "x_valid.columns = features.columns\n",
    "print(x_train.columns)\n"
   ]
  },
  {
   "cell_type": "markdown",
   "metadata": {
    "id": "zW4cEwiiwsP-"
   },
   "source": [
    "# IMPUTER"
   ]
  },
  {
   "cell_type": "code",
   "execution_count": null,
   "metadata": {
    "id": "f72umDdl6iCr"
   },
   "outputs": [],
   "source": [
    "from sklearn.impute import SimpleImputer\n",
    "\n",
    "# Imputation\n",
    "my_imputer = SimpleImputer()\n",
    "x_train = pd.DataFrame(my_imputer.fit_transform(x_train))\n",
    "x_valid = pd.DataFrame(my_imputer.transform(x_valid))\n",
    "\n",
    "x_train.columns = features.columns\n",
    "x_valid.columns = features.columns\n",
    "\n",
    "\n"
   ]
  },
  {
   "cell_type": "markdown",
   "metadata": {
    "id": "XsWE_eHlwPfm"
   },
   "source": [
    "# CONFUSION MATRIX"
   ]
  },
  {
   "cell_type": "code",
   "execution_count": null,
   "metadata": {
    "id": "KzxcrHy4rqKa"
   },
   "outputs": [],
   "source": [
    "def create_confusion_matrix(cm_plot_labels, name, y_true,y_pred, map_col):\n",
    "    #Get the true and predicted labels\n",
    "    y_predict_classes, y_true_classes = y_pred,y_true\n",
    "\n",
    "    #Compute the confusion matrix\n",
    "    confusion_matrix_computed = confusion_matrix(y_true_classes, y_predict_classes)\n",
    "\n",
    "    #Plot the confusion matrix\n",
    "    plot_confusion_matrix(confusion_matrix_computed, cm_plot_labels, name, map_col) \n",
    "    # plot_confusion_matrix(conf_mat=confusion_matrix_computed, class_names=cm_plot_labels)\n",
    "classes = [\"Fake\", \"Real\"]\n",
    "name = \"Confusion matrix\"\n",
    "def plot_confusion_matrix(cm, classes,\n",
    "                          name,\n",
    "                          cmap,\n",
    "                          normalize=False,\n",
    "                          title='Confusion matrix'):\n",
    "    \n",
    "    plt.figure(figsize=(6,4))\n",
    "    plt.imshow(cm, interpolation='nearest', cmap=cmap)\n",
    "    plt.title(name)\n",
    "    plt.colorbar()\n",
    "    tick_marks = np.arange(len(classes))\n",
    "    plt.xticks(tick_marks, classes, rotation=45, weight = 'bold')\n",
    "    plt.yticks(tick_marks, classes, weight = 'bold')\n",
    "\n",
    "    if normalize:\n",
    "        cm = cm.astype('float') / cm.sum(axis=1)[:, np.newaxis]\n",
    "\n",
    "    thresh = cm.max() / 2.\n",
    "    for i, j in itertools.product(range(cm.shape[0]), range(cm.shape[1])):\n",
    "        plt.text(j, i, cm[i, j],\n",
    "                 horizontalalignment=\"center\",\n",
    "                 color=\"white\" if cm[i, j] > thresh else \"black\")\n",
    "    \n",
    "#     b, t = plt.ylim()\n",
    "#     b += 0.5\n",
    "#     t -= 0.5\n",
    "#     plt.ylim(b, t)\n",
    "    \n",
    "    plt.tight_layout()\n",
    "    plt.ylabel('True Labels', fontweight='bold')\n",
    "    plt.xlabel('Predicted Labels', fontweight='bold')\n",
    "    fig = plt\n",
    "    # fig.savefig('/content/drive/MyDrive/skin-cancer-mnist-ham10000' + name + '_confusion_matrix.png', dpi=300)"
   ]
  },
  {
   "cell_type": "markdown",
   "metadata": {
    "id": "y8R8zLhWwax6"
   },
   "source": [
    "# SVM"
   ]
  },
  {
   "cell_type": "code",
   "execution_count": null,
   "metadata": {
    "id": "F9QZFlGe6asj"
   },
   "outputs": [],
   "source": [
    "from sklearn.svm import SVC\n",
    "model = SVC(C=0.1, gamma=1, kernel='poly')"
   ]
  },
  {
   "cell_type": "code",
   "execution_count": null,
   "metadata": {
    "colab": {
     "base_uri": "https://localhost:8080/",
     "height": 75
    },
    "id": "-SJBCEmK6mRj",
    "outputId": "f3dcee12-1c62-476e-ebde-e30d95302ca2"
   },
   "outputs": [
    {
     "data": {
      "text/html": [
       "<style>#sk-container-id-1 {color: black;background-color: white;}#sk-container-id-1 pre{padding: 0;}#sk-container-id-1 div.sk-toggleable {background-color: white;}#sk-container-id-1 label.sk-toggleable__label {cursor: pointer;display: block;width: 100%;margin-bottom: 0;padding: 0.3em;box-sizing: border-box;text-align: center;}#sk-container-id-1 label.sk-toggleable__label-arrow:before {content: \"▸\";float: left;margin-right: 0.25em;color: #696969;}#sk-container-id-1 label.sk-toggleable__label-arrow:hover:before {color: black;}#sk-container-id-1 div.sk-estimator:hover label.sk-toggleable__label-arrow:before {color: black;}#sk-container-id-1 div.sk-toggleable__content {max-height: 0;max-width: 0;overflow: hidden;text-align: left;background-color: #f0f8ff;}#sk-container-id-1 div.sk-toggleable__content pre {margin: 0.2em;color: black;border-radius: 0.25em;background-color: #f0f8ff;}#sk-container-id-1 input.sk-toggleable__control:checked~div.sk-toggleable__content {max-height: 200px;max-width: 100%;overflow: auto;}#sk-container-id-1 input.sk-toggleable__control:checked~label.sk-toggleable__label-arrow:before {content: \"▾\";}#sk-container-id-1 div.sk-estimator input.sk-toggleable__control:checked~label.sk-toggleable__label {background-color: #d4ebff;}#sk-container-id-1 div.sk-label input.sk-toggleable__control:checked~label.sk-toggleable__label {background-color: #d4ebff;}#sk-container-id-1 input.sk-hidden--visually {border: 0;clip: rect(1px 1px 1px 1px);clip: rect(1px, 1px, 1px, 1px);height: 1px;margin: -1px;overflow: hidden;padding: 0;position: absolute;width: 1px;}#sk-container-id-1 div.sk-estimator {font-family: monospace;background-color: #f0f8ff;border: 1px dotted black;border-radius: 0.25em;box-sizing: border-box;margin-bottom: 0.5em;}#sk-container-id-1 div.sk-estimator:hover {background-color: #d4ebff;}#sk-container-id-1 div.sk-parallel-item::after {content: \"\";width: 100%;border-bottom: 1px solid gray;flex-grow: 1;}#sk-container-id-1 div.sk-label:hover label.sk-toggleable__label {background-color: #d4ebff;}#sk-container-id-1 div.sk-serial::before {content: \"\";position: absolute;border-left: 1px solid gray;box-sizing: border-box;top: 0;bottom: 0;left: 50%;z-index: 0;}#sk-container-id-1 div.sk-serial {display: flex;flex-direction: column;align-items: center;background-color: white;padding-right: 0.2em;padding-left: 0.2em;position: relative;}#sk-container-id-1 div.sk-item {position: relative;z-index: 1;}#sk-container-id-1 div.sk-parallel {display: flex;align-items: stretch;justify-content: center;background-color: white;position: relative;}#sk-container-id-1 div.sk-item::before, #sk-container-id-1 div.sk-parallel-item::before {content: \"\";position: absolute;border-left: 1px solid gray;box-sizing: border-box;top: 0;bottom: 0;left: 50%;z-index: -1;}#sk-container-id-1 div.sk-parallel-item {display: flex;flex-direction: column;z-index: 1;position: relative;background-color: white;}#sk-container-id-1 div.sk-parallel-item:first-child::after {align-self: flex-end;width: 50%;}#sk-container-id-1 div.sk-parallel-item:last-child::after {align-self: flex-start;width: 50%;}#sk-container-id-1 div.sk-parallel-item:only-child::after {width: 0;}#sk-container-id-1 div.sk-dashed-wrapped {border: 1px dashed gray;margin: 0 0.4em 0.5em 0.4em;box-sizing: border-box;padding-bottom: 0.4em;background-color: white;}#sk-container-id-1 div.sk-label label {font-family: monospace;font-weight: bold;display: inline-block;line-height: 1.2em;}#sk-container-id-1 div.sk-label-container {text-align: center;}#sk-container-id-1 div.sk-container {/* jupyter's `normalize.less` sets `[hidden] { display: none; }` but bootstrap.min.css set `[hidden] { display: none !important; }` so we also need the `!important` here to be able to override the default hidden behavior on the sphinx rendered scikit-learn.org. See: https://github.com/scikit-learn/scikit-learn/issues/21755 */display: inline-block !important;position: relative;}#sk-container-id-1 div.sk-text-repr-fallback {display: none;}</style><div id=\"sk-container-id-1\" class=\"sk-top-container\"><div class=\"sk-text-repr-fallback\"><pre>SVC(C=0.1, gamma=1, kernel=&#x27;poly&#x27;)</pre><b>In a Jupyter environment, please rerun this cell to show the HTML representation or trust the notebook. <br />On GitHub, the HTML representation is unable to render, please try loading this page with nbviewer.org.</b></div><div class=\"sk-container\" hidden><div class=\"sk-item\"><div class=\"sk-estimator sk-toggleable\"><input class=\"sk-toggleable__control sk-hidden--visually\" id=\"sk-estimator-id-1\" type=\"checkbox\" checked><label for=\"sk-estimator-id-1\" class=\"sk-toggleable__label sk-toggleable__label-arrow\">SVC</label><div class=\"sk-toggleable__content\"><pre>SVC(C=0.1, gamma=1, kernel=&#x27;poly&#x27;)</pre></div></div></div></div></div>"
      ],
      "text/plain": [
       "SVC(C=0.1, gamma=1, kernel='poly')"
      ]
     },
     "execution_count": 9,
     "metadata": {},
     "output_type": "execute_result"
    }
   ],
   "source": [
    "model.fit(x_train, y_train)"
   ]
  },
  {
   "cell_type": "code",
   "execution_count": null,
   "metadata": {
    "id": "bbSvG-z9AeMg"
   },
   "outputs": [],
   "source": [
    "y_pred = model.predict(x_valid)\n"
   ]
  },
  {
   "cell_type": "code",
   "execution_count": null,
   "metadata": {
    "colab": {
     "base_uri": "https://localhost:8080/"
    },
    "id": "mE8hYXXArKjX",
    "outputId": "468efd36-7643-4aab-fba5-820fb9052f8a"
   },
   "outputs": [
    {
     "name": "stdout",
     "output_type": "stream",
     "text": [
      "0.9458041958041958\n"
     ]
    }
   ],
   "source": [
    "from sklearn.metrics import accuracy_score\n",
    "\n",
    "# printing the accuracy of the model\n",
    "print(accuracy_score(y_valid, y_pred))"
   ]
  },
  {
   "cell_type": "code",
   "execution_count": null,
   "metadata": {
    "colab": {
     "base_uri": "https://localhost:8080/",
     "height": 426
    },
    "id": "oyqiIyL3rX3B",
    "outputId": "f938cc64-bdf7-4df5-8eba-6f984dcb11ad"
   },
   "outputs": [
    {
     "data": {
      "image/png": "[encoded data removed]",
      "text/plain": [
       "<Figure size 600x400 with 2 Axes>"
      ]
     },
     "metadata": {},
     "output_type": "display_data"
    }
   ],
   "source": [
    "# importing the required modules\n",
    "import seaborn as sns\n",
    "from sklearn.metrics import confusion_matrix\n",
    "\n",
    "classes = [\"Fake\", \"Real\"]\n",
    "name = \"Confusion matrix\"\n",
    "# passing actual and predicted values`\n",
    "create_confusion_matrix(classes, name = name, y_true = y_valid[:len(y_pred)], y_pred = y_pred, map_col = 'Oranges')"
   ]
  },
  {
   "cell_type": "code",
   "execution_count": null,
   "metadata": {
    "colab": {
     "base_uri": "https://localhost:8080/"
    },
    "id": "kyYGIx7QtFNJ",
    "outputId": "79697e46-4e82-488c-f2a2-d5dc8257c528"
   },
   "outputs": [
    {
     "name": "stdout",
     "output_type": "stream",
     "text": [
      "              precision    recall  f1-score   support\n",
      "\n",
      "         0.0       0.97      0.96      0.96      5725\n",
      "         1.0       0.86      0.91      0.89      1711\n",
      "\n",
      "    accuracy                           0.95      7436\n",
      "   macro avg       0.92      0.93      0.92      7436\n",
      "weighted avg       0.95      0.95      0.95      7436\n",
      "\n"
     ]
    }
   ],
   "source": [
    "from sklearn.metrics import classification_report\n",
    "print(classification_report(y_valid,y_pred))"
   ]
  },
  {
   "cell_type": "code",
   "execution_count": null,
   "metadata": {
    "colab": {
     "base_uri": "https://localhost:8080/"
    },
    "id": "il9m_NARvBbG",
    "outputId": "f89b13a7-1382-4b59-ae8f-11f6db9a3bff"
   },
   "outputs": [
    {
     "data": {
      "text/plain": [
       "0.9497041420118343"
      ]
     },
     "execution_count": 13,
     "metadata": {},
     "output_type": "execute_result"
    }
   ],
   "source": [
    "model.score(x_valid, y_valid)"
   ]
  },
  {
   "cell_type": "markdown",
   "metadata": {
    "id": "RInphHrfygmc"
   },
   "source": [
    "# KNN"
   ]
  },
  {
   "cell_type": "code",
   "execution_count": null,
   "metadata": {
    "colab": {
     "base_uri": "https://localhost:8080/"
    },
    "id": "HDHHh0Wtv_Xp",
    "outputId": "0827dea1-8719-4064-bd3d-ea4625945ef7"
   },
   "outputs": [
    {
     "data": {
      "text/plain": [
       "0.9458041958041958"
      ]
     },
     "execution_count": 14,
     "metadata": {},
     "output_type": "execute_result"
    }
   ],
   "source": [
    "from sklearn.neighbors import KNeighborsClassifier\n",
    "knn = KNeighborsClassifier(n_neighbors=2)\n",
    "knn.fit(x_train, y_train)\n",
    "knn.score(x_valid, y_valid)"
   ]
  },
  {
   "cell_type": "code",
   "execution_count": null,
   "metadata": {
    "colab": {
     "base_uri": "https://localhost:8080/"
    },
    "id": "7vk2DmvPy0kI",
    "outputId": "055cfa69-9d41-4062-efc2-95c2410a59ed"
   },
   "outputs": [
    {
     "name": "stdout",
     "output_type": "stream",
     "text": [
      "              precision    recall  f1-score   support\n",
      "\n",
      "         0.0       0.97      0.96      0.96      5725\n",
      "         1.0       0.86      0.91      0.89      1711\n",
      "\n",
      "    accuracy                           0.95      7436\n",
      "   macro avg       0.92      0.93      0.93      7436\n",
      "weighted avg       0.95      0.95      0.95      7436\n",
      "\n"
     ]
    }
   ],
   "source": [
    "y_pred = knn.predict(x_valid)\n",
    "from sklearn.metrics import classification_report\n",
    "print(classification_report(y_valid,y_pred))"
   ]
  },
  {
   "cell_type": "code",
   "execution_count": null,
   "metadata": {
    "colab": {
     "base_uri": "https://localhost:8080/"
    },
    "id": "aW4A3cZtzMF-",
    "outputId": "d92176b0-1dc2-4de5-a302-a4d845b9d123"
   },
   "outputs": [
    {
     "data": {
      "image/png": "[encoded data removed]",
      "text/plain": [
       "<Figure size 600x400 with 2 Axes>"
      ]
     },
     "metadata": {},
     "output_type": "display_data"
    }
   ],
   "source": [
    "import seaborn as sns\n",
    "from sklearn.metrics import confusion_matrix\n",
    "\n",
    "y_pred = knn.predict(x_valid)\n",
    "\n",
    "# passing actual and predicted values\n",
    "create_confusion_matrix(classes, name = name, y_true = y_valid[:len(y_pred)], y_pred = y_pred, map_col = 'Oranges')\n",
    "\n"
   ]
  },
  {
   "cell_type": "code",
   "execution_count": null,
   "metadata": {
    "id": "GDicM_VizYUo"
   },
   "outputs": [],
   "source": []
  },
  {
   "cell_type": "markdown",
   "metadata": {
    "id": "x5Kbe2fX0OPw"
   },
   "source": [
    "# XG BOOST"
   ]
  },
  {
   "cell_type": "code",
   "execution_count": null,
   "metadata": {
    "colab": {
     "base_uri": "https://localhost:8080/"
    },
    "id": "4p4d-wZT0R1x",
    "outputId": "0cb18004-f6cc-45bd-bd99-4ac3f33a5120"
   },
   "outputs": [
    {
     "name": "stdout",
     "output_type": "stream",
     "text": [
      "              precision    recall  f1-score   support\n",
      "\n",
      "         0.0       0.96      0.96      0.96      5725\n",
      "         1.0       0.86      0.86      0.86      1711\n",
      "\n",
      "    accuracy                           0.94      7436\n",
      "   macro avg       0.91      0.91      0.91      7436\n",
      "weighted avg       0.94      0.94      0.94      7436\n",
      "\n",
      "0.935449166218397\n"
     ]
    },
    {
     "data": {
      "image/png": "[encoded data removed]",
      "text/plain": [
       "<Figure size 600x400 with 2 Axes>"
      ]
     },
     "metadata": {},
     "output_type": "display_data"
    }
   ],
   "source": [
    "import xgboost as xgb\n",
    "from sklearn.metrics import classification_report\n",
    "from xgboost import XGBClassifier\n",
    "\n",
    "data_dmatrix = xgb.DMatrix(data=x_train, label=y_train)\n",
    "data_dmatrix\n",
    "\n",
    "params = {\n",
    "    'objective':'binary:logistic',\n",
    "    'max_depth':4,\n",
    "    'alpha':10,\n",
    "    'learning_rate':1.0,\n",
    "    'n_estimators':100\n",
    "}\n",
    "\n",
    "model = XGBClassifier(**params)\n",
    "\n",
    "model.fit(x_train,y_train)\n",
    "\n",
    "y_pred = model.predict(x_valid)\n",
    "\n",
    "print(classification_report(y_valid,y_pred))\n",
    "\n",
    "from sklearn.metrics import accuracy_score\n",
    "print(accuracy_score(y_valid,y_pred))\n",
    "create_confusion_matrix(classes, name = name, y_true = y_valid[:len(y_pred)], y_pred = y_pred, map_col = 'Oranges')"
   ]
  },
  {
   "cell_type": "markdown",
   "metadata": {
    "id": "UqCk2A2t1ULa"
   },
   "source": [
    "# MLP"
   ]
  },
  {
   "cell_type": "markdown",
   "metadata": {
    "id": "V4nI2RdM1OYV"
   },
   "source": []
  },
  {
   "cell_type": "code",
   "execution_count": null,
   "metadata": {
    "colab": {
     "base_uri": "https://localhost:8080/"
    },
    "id": "czlxWrr-1We9",
    "outputId": "f53d11b7-cd76-488f-a312-161edf426a8e"
   },
   "outputs": [
    {
     "name": "stdout",
     "output_type": "stream",
     "text": [
      "0.9607315761161915\n"
     ]
    },
    {
     "data": {
      "image/png": "[encoded data removed]",
      "text/plain": [
       "<Figure size 600x400 with 2 Axes>"
      ]
     },
     "metadata": {},
     "output_type": "display_data"
    }
   ],
   "source": [
    "from sklearn.neural_network import MLPClassifier\n",
    "from sklearn.datasets import make_classification\n",
    "from sklearn.model_selection import train_test_split\n",
    "X, y = make_classification(n_samples=100, random_state=1)\n",
    "# X_train, X_test, y_train, y_test = train_test_split(features, label)\n",
    "model = MLPClassifier(random_state=1, max_iter=300).fit(x_train, y_train)\n",
    "y_pred = model.predict(x_valid)\n",
    "print(model.score(x_valid, y_valid))\n",
    "\n",
    "create_confusion_matrix(classes, name = name, y_true = y_valid[:len(y_pred)], y_pred = y_pred, map_col = 'Oranges')\n"
   ]
  },
  {
   "cell_type": "code",
   "execution_count": null,
   "metadata": {
    "id": "lnvEu7TE1XX0"
   },
   "outputs": [],
   "source": []
  },
  {
   "cell_type": "code",
   "execution_count": null,
   "metadata": {
    "id": "YCs4NhvX1mdJ"
   },
   "outputs": [],
   "source": []
  },
  {
   "cell_type": "markdown",
   "metadata": {
    "id": "3beDr7NE2vvp"
   },
   "source": [
    "# GRADIENT BOOSTING"
   ]
  },
  {
   "cell_type": "code",
   "execution_count": null,
   "metadata": {
    "colab": {
     "background_save": true
    },
    "id": "OMD74-oA21bs",
    "outputId": "a23a5b94-8d4a-4554-d67d-72db7b5849d4"
   },
   "outputs": [
    {
     "data": {
      "text/plain": [
       "0.884480903711673"
      ]
     },
     "execution_count": 19,
     "metadata": {},
     "output_type": "execute_result"
    }
   ],
   "source": [
    "from sklearn.model_selection import train_test_split\n",
    "from sklearn.model_selection import cross_val_score\n",
    "# X_train,X_test,y_train,y_test=train_test_split(features,label,test_size=0.3,random_state=101)\n",
    "\n",
    "from sklearn.ensemble import GradientBoostingClassifier\n",
    "param={'n_estimators':(5,10,20,40,60,80,100,120,140,160,180),'learning_rate':(0.1,0.2,0.4,0.8,1.0,1.2,1.6)}\n",
    "\n",
    "model  = GradientBoostingClassifier()\n",
    "model.fit(x_train,y_train)\n",
    "model.score(x_valid,y_valid)"
   ]
  },
  {
   "cell_type": "code",
   "execution_count": null,
   "metadata": {
    "colab": {
     "background_save": true
    },
    "id": "dMyLGMKt3Ewb",
    "outputId": "8190c96f-fb98-4d19-9484-f96e3cc5f76f"
   },
   "outputs": [
    {
     "data": {
      "image/png": "[encoded data removed]",
      "text/plain": [
       "<Figure size 600x400 with 2 Axes>"
      ]
     },
     "metadata": {},
     "output_type": "display_data"
    }
   ],
   "source": [
    "import seaborn as sns\n",
    "from sklearn.metrics import confusion_matrix\n",
    "\n",
    "y_pred = model.predict(x_valid)\n",
    "\n",
    "# passing actual and predicted values\n",
    "create_confusion_matrix(classes, name = name, y_true = y_valid[:len(y_pred)], y_pred = y_pred, map_col = 'Oranges')\n"
   ]
  },
  {
   "cell_type": "markdown",
   "metadata": {
    "id": "5MAsQ0TJ7KSq"
   },
   "source": [
    "\n",
    "\n",
    "# RANDOM FOREST"
   ]
  },
  {
   "cell_type": "code",
   "execution_count": null,
   "metadata": {
    "colab": {
     "base_uri": "https://localhost:8080/",
     "height": 444
    },
    "id": "LHkurBCR7N0l",
    "outputId": "a109ff2c-5d23-4e1e-8119-edac606e4ef9"
   },
   "outputs": [
    {
     "name": "stdout",
     "output_type": "stream",
     "text": [
      "0.9353146853146853\n"
     ]
    },
    {
     "data": {
      "image/png": "[encoded data removed]",
      "text/plain": [
       "<Figure size 600x400 with 2 Axes>"
      ]
     },
     "metadata": {},
     "output_type": "display_data"
    }
   ],
   "source": [
    "from sklearn.ensemble import RandomForestClassifier\n",
    "model = RandomForestClassifier(n_estimators=201,criterion = \"entropy\")\n",
    "model.fit(x_train, y_train)\n",
    "model.score(x_valid,y_valid)\n",
    "y_pred = model.predict(x_valid)\n",
    "from sklearn.metrics import accuracy_score\n",
    "\n",
    "# printing the accuracy of the model\n",
    "print(accuracy_score(y_valid, y_pred))\n",
    "y_pred = model.predict(x_valid)\n",
    "from sklearn.metrics import accuracy_score\n",
    "create_confusion_matrix(classes, name = name, y_true = y_valid[:len(y_pred)], y_pred = y_pred, map_col = 'Oranges')"
   ]
  },
  {
   "cell_type": "code",
   "execution_count": null,
   "metadata": {
    "id": "lTUZ52LW7i0t"
   },
   "outputs": [],
   "source": []
  },
  {
   "cell_type": "markdown",
   "metadata": {
    "id": "tiPEYLDc5Vni"
   },
   "source": [
    "# PCA"
   ]
  },
  {
   "cell_type": "markdown",
   "metadata": {
    "id": "DTH_IhxN5UaM"
   },
   "source": []
  },
  {
   "cell_type": "code",
   "execution_count": null,
   "metadata": {
    "id": "kL2fVE3M3qnR"
   },
   "outputs": [],
   "source": [
    "from sklearn.decomposition import PCA\n",
    "\n",
    "pca = PCA(0.90)\n",
    "features_pca = pca.fit_transform(features)"
   ]
  },
  {
   "cell_type": "code",
   "execution_count": null,
   "metadata": {
    "id": "1Th3b1OP5s7y"
   },
   "outputs": [],
   "source": [
    "X_train_pca, X_test_pca, y_train, y_test = train_test_split(features_pca, label, test_size=0.3, random_state=30)"
   ]
  },
  {
   "cell_type": "code",
   "execution_count": null,
   "metadata": {
    "colab": {
     "base_uri": "https://localhost:8080/"
    },
    "id": "HxtuXXVd53fy",
    "outputId": "c0fa97b8-8ab2-41d8-eb68-1fa1d5e87244"
   },
   "outputs": [
    {
     "data": {
      "text/plain": [
       "0.8114577729962346"
      ]
     },
     "execution_count": 8,
     "metadata": {},
     "output_type": "execute_result"
    }
   ],
   "source": [
    "from sklearn.linear_model import LogisticRegression\n",
    "\n",
    "model = LogisticRegression(max_iter=1000)\n",
    "model.fit(X_train_pca, y_train)\n",
    "model.score(X_test_pca, y_test)"
   ]
  },
  {
   "cell_type": "code",
   "execution_count": null,
   "metadata": {
    "colab": {
     "base_uri": "https://localhost:8080/"
    },
    "id": "S5lbhTOg58B3",
    "outputId": "249897d2-1823-457f-b067-2fe51166b998"
   },
   "outputs": [
    {
     "data": {
      "text/plain": [
       "0.8570467993544917"
      ]
     },
     "execution_count": 9,
     "metadata": {},
     "output_type": "execute_result"
    }
   ],
   "source": [
    "from sklearn.neighbors import KNeighborsClassifier\n",
    "knn = KNeighborsClassifier(n_neighbors=10)\n",
    "knn.fit(X_train_pca, y_train)\n",
    "knn.score(X_test_pca, y_test)"
   ]
  },
  {
   "cell_type": "code",
   "execution_count": null,
   "metadata": {
    "colab": {
     "base_uri": "https://localhost:8080/"
    },
    "id": "LiDJjdi359AG",
    "outputId": "92d937bb-00aa-4587-e7ff-0a1e70482645"
   },
   "outputs": [
    {
     "data": {
      "text/plain": [
       "0.8485745024206562"
      ]
     },
     "execution_count": 10,
     "metadata": {},
     "output_type": "execute_result"
    }
   ],
   "source": [
    "from sklearn.svm import SVC\n",
    "model = SVC()\n",
    "model.fit(X_train_pca, y_train)\n",
    "model.score(X_test_pca, y_test)"
   ]
  },
  {
   "cell_type": "code",
   "execution_count": null,
   "metadata": {
    "colab": {
     "base_uri": "https://localhost:8080/"
    },
    "id": "xFGy07xZ6ER9",
    "outputId": "d75ccccf-55c5-4d67-e8fc-b57def072393"
   },
   "outputs": [
    {
     "data": {
      "text/plain": [
       "0.9190424959655729"
      ]
     },
     "execution_count": 11,
     "metadata": {},
     "output_type": "execute_result"
    }
   ],
   "source": [
    "from sklearn.ensemble import RandomForestClassifier\n",
    "model = RandomForestClassifier(n_estimators=25)\n",
    "model.fit(X_train_pca, y_train)\n",
    "model.score(X_test_pca,y_test)"
   ]
  },
  {
   "cell_type": "code",
   "execution_count": null,
   "metadata": {
    "id": "j0AFKPhQ6JrE"
   },
   "outputs": [],
   "source": [
    "import seaborn as sns\n",
    "from sklearn.metrics import confusion_matrix\n",
    "\n",
    "y_pred = knn.predict(X_test_pca)\n",
    "\n"
   ]
  },
  {
   "cell_type": "code",
   "execution_count": null,
   "metadata": {
    "id": "TkGHjI1h6YPD"
   },
   "outputs": [],
   "source": [
    "from sklearn import svm, feature_selection\n",
    "from sklearn.model_selection import GridSearchCV, train_test_split\n",
    "from sklearn.metrics import classification_report\n",
    "from sklearn.pipeline import Pipeline\n",
    "from sklearn.decomposition import PCA\n",
    "from sklearn.preprocessing import StandardScaler\n",
    "from sklearn.utils import shuffle\n",
    "import numpy as np\n",
    "import joblib\n",
    "\n",
    "\n",
    "\n",
    "# Shuffle dataset\n",
    "X = features\n",
    "y = label\n",
    "X, y = shuffle(X, y, random_state=42)\n",
    "\n",
    "# Split dataset into training and testing sets\n",
    "X_train, X_test, y_train, y_test = train_test_split(X, y, test_size=0.2, random_state=42)\n",
    "\n",
    "# Define SVM model\n",
    "svm_model = svm.SVC(kernel='linear', probability=True)\n",
    "\n",
    "# Define feature selection and PCA pipelines\n",
    "feature_selection_pipeline = Pipeline([\n",
    "    ('scale', StandardScaler()),\n",
    "    ('feature_selection', feature_selection.SelectKBest(feature_selection.f_classif, k=1000)),\n",
    "    ('pca', PCA(n_components=200))\n",
    "])\n",
    "\n",
    "# Define SVM pipeline with feature selection and PCA\n",
    "svm_pipeline = Pipeline([\n",
    "    ('feature_selection_pca', feature_selection_pipeline),\n",
    "    ('svm', svm_model)\n",
    "])\n",
    "\n",
    "# Define hyperparameters for grid search\n",
    "params = {\n",
    "    'feature_selection_pca__feature_selection__k': [100, 500, 1000],\n",
    "    'feature_selection_pca__pca__n_components': [50, 100, 200],\n",
    "    'svm__C': [0.1, 1, 10],\n",
    "    'svm__gamma': [0.1, 1, 10]\n",
    "}\n",
    "\n",
    "# Perform grid search to find optimal hyperparameters\n",
    "svm_grid_search = GridSearchCV(svm_pipeline, params, cv=5, n_jobs=-1)\n",
    "svm_grid_search.fit(X_train, y_train)\n",
    "\n",
    "# Print best hyperparameters\n",
    "print(\"Best parameters: \", svm_grid_search.best_params_)\n",
    "\n",
    "# Evaluate model on test set\n",
    "y_pred = svm_grid_search.predict(X_test)\n",
    "print(classification_report(y_test, y_pred))\n",
    "\n"
   ]
  },
  {
   "cell_type": "markdown",
   "metadata": {
    "id": "EOinEEWp7IQV"
   },
   "source": []
  }
 ],
 "metadata": {
  "colab": {
   "provenance": []
  },
  "gpuClass": "standard",
  "kernelspec": {
   "display_name": "Python 3 (ipykernel)",
   "language": "python",
   "name": "python3"
  },
  "language_info": {
   "codemirror_mode": {
    "name": "ipython",
    "version": 3
   },
   "file_extension": ".py",
   "mimetype": "text/x-python",
   "name": "python",
   "nbconvert_exporter": "python",
   "pygments_lexer": "ipython3",
   "version": "3.10.6"
  }
 },
 "nbformat": 4,
 "nbformat_minor": 4
}
